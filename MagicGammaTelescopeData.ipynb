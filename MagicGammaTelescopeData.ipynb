{
 "cells": [
  {
   "cell_type": "code",
   "execution_count": null,
   "metadata": {},
   "outputs": [],
   "source": [
    "import numpy as np\n",
    "import pandas as pd\n",
    "import tensorflow as tf\n",
    "import matplotlib.pyplot as plt\n",
    "from sklearn.metrics import classification_report\n",
    "from sklearn.svm import SVC\n",
    "from sklearn.linear_model import LogisticRegression\n",
    "from sklearn.preprocessing import StandardScaler\n",
    "from sklearn.neighbors import KNeighborsClassifier\n",
    "from sklearn.naive_bayes import GaussianNB\n",
    "from imblearn.over_sampling import RandomOverSampler"
   ]
  },
  {
   "cell_type": "markdown",
   "metadata": {},
   "source": [
    "### DataSet: Magic Gamma Telescope\n",
    "\n",
    "Dua, D. and Graff, C. (2019), UCI Machine Learning Repository ['http://archive.ics.uci.edu/ml]. Irvine, CA: Univeristy of California, School of Information and Computer Sciences.\n",
    "\n",
    "Donated By: P.Savicky Institute of Computer Science, AS of CR Czech Republic savicky '@' cs.cas.cz"
   ]
  },
  {
   "cell_type": "markdown",
   "metadata": {},
   "source": [
    "General Setup Cleaning and Transforming Data"
   ]
  },
  {
   "cell_type": "code",
   "execution_count": null,
   "metadata": {},
   "outputs": [],
   "source": [
    "cols =[\"fLength\",\"fWidth\",\"fSize\",\"fConc\",\"fConc1\",\"fAsym\",\"fm3Long\", \"fM3Trans\",\"fAlpha\",\"fDist\",\"class\"]\n",
    "df = pd.read_csv(\"DataSets/magicGammaTelescope/magic04.data\", names=cols)\n",
    "df.head()"
   ]
  },
  {
   "cell_type": "markdown",
   "metadata": {},
   "source": [
    "Changing Class Gamma/Hadron to Numerical Data"
   ]
  },
  {
   "cell_type": "code",
   "execution_count": null,
   "metadata": {},
   "outputs": [],
   "source": [
    "df[\"class\"] = (df[\"class\"] == \"g\").astype(int)\n",
    "df.head()"
   ]
  },
  {
   "cell_type": "markdown",
   "metadata": {},
   "source": [
    "For Each Label Name [:-1]: Compare Each Attribute Grouping By 'Class' "
   ]
  },
  {
   "cell_type": "code",
   "execution_count": null,
   "metadata": {},
   "outputs": [],
   "source": [
    "\n",
    "for label in cols[:-1]:\n",
    "\n",
    "    # Make a histogram of class; Gamma = 1, Hadron = 0, Generic Alpha, and Density Even Dist\n",
    "    plt.hist(df[df[\"class\"]==1][label], color='blue', label='Gamma', alpha=0.7, density=True)\n",
    "    plt.hist(df[df[\"class\"]==0][label], color='red', label='Hadron', alpha=0.7, density=True)\n",
    "    plt.title(label)\n",
    "    plt.ylabel('Probability')\n",
    "    plt.xlabel(label)\n",
    "    plt.legend()\n",
    "    plt.show()\n",
    "\n",
    "    print(\"Label: \" + label)\n",
    "\n",
    "    "
   ]
  },
  {
   "cell_type": "markdown",
   "metadata": {},
   "source": [
    "### Setup Vars for Train,Validate,Test\n",
    "1st Seg: 0 -> 60% - Training Data <br>\n",
    "2nd Seg: 60% -> 80% - Validation Data <br>\n",
    "3rd Seg: 80 -> 100% - Testing Data <br>"
   ]
  },
  {
   "cell_type": "code",
   "execution_count": null,
   "metadata": {},
   "outputs": [],
   "source": [
    "train, valid, test = np.split(df.sample(frac=1), [int(0.6*len(df)), int(0.8*len(df))])"
   ]
  },
  {
   "cell_type": "markdown",
   "metadata": {},
   "source": [
    "### Data of Different Scale.\n",
    "EX: col1HighestValue === 5 vs. col2HighestValue === 5000000 <br>\n",
    "We create a method to scale the data and shape any incorrectly dimensioned dataframes"
   ]
  },
  {
   "cell_type": "code",
   "execution_count": null,
   "metadata": {},
   "outputs": [],
   "source": [
    "def scale_dataset(dataframe, oversample=False):\n",
    "\n",
    "    # get all values assuming label is last\n",
    "    X = dataframe[dataframe.columns[:-1]].values\n",
    "    # get labels\n",
    "    y = dataframe[dataframe.columns[-1]].values\n",
    "\n",
    "    # create imported scaler\n",
    "    scaler = StandardScaler()\n",
    "    # fit and transform to make x fit\n",
    "    X = scaler.fit_transform(X)\n",
    "\n",
    "    # If there is an oversample use package randomoversampler, and refit\n",
    "    if oversample:\n",
    "        ros = RandomOverSampler()\n",
    "        X, y = ros.fit_resample(X,y)\n",
    "\n",
    "    # into a new data frame put reshaped data (data reshaping due to X is 2d, and y is a 1d vector) and horizontally stack them. side by side\n",
    "    data = np.hstack((X, np.reshape(y, (-1,1))))\n",
    "\n",
    "    return data, X, y"
   ]
  },
  {
   "cell_type": "markdown",
   "metadata": {},
   "source": [
    "Scale Dataset, Training, Validtion, and Testing; Ready For Simple Built-In Scikit-Learn Models"
   ]
  },
  {
   "cell_type": "code",
   "execution_count": null,
   "metadata": {},
   "outputs": [],
   "source": [
    "train, X_train, y_train = scale_dataset(train, oversample=True)\n",
    "valid, X_valid, y_valid = scale_dataset(valid, oversample=False)\n",
    "test, X_test, y_test = scale_dataset(test, oversample=False)"
   ]
  },
  {
   "cell_type": "markdown",
   "metadata": {},
   "source": [
    "### Model 1: K-Nearest Neighbors (K-NN)"
   ]
  },
  {
   "cell_type": "code",
   "execution_count": null,
   "metadata": {},
   "outputs": [],
   "source": [
    "# Created a model, parem - amount of nearest neighbors\n",
    "knn_model = KNeighborsClassifier(n_neighbors=2)\n",
    "\n",
    "# fit using X_train, and y_train data\n",
    "knn_model = knn_model.fit(X_train, y_train)\n"
   ]
  },
  {
   "cell_type": "markdown",
   "metadata": {},
   "source": [
    "### Classification Report (K-NearestNeighbors)"
   ]
  },
  {
   "cell_type": "code",
   "execution_count": null,
   "metadata": {},
   "outputs": [],
   "source": [
    "# PREDICTION - First Prediction\n",
    "y_pred = knn_model.predict(X_test)\n",
    "print(classification_report(y_test, y_pred))\n",
    "\n",
    "# Precision - How many of our labeling are confirmed to be True Positives\n",
    "# 1st Test .77, .84; 1-n_neighbors\n",
    "# 2nd Test .67, .87; 2-n_neighbors\n",
    "\n",
    "# Recall - Of all that are truly positive how many do we actually get correct.\n",
    "# 1st Test .68, .89; 1-n_neighbors\n",
    "# 2nd Test .78, .80; 2-n_neighbors\n",
    "\n",
    "# Accuracy - If we look at pure correct vs total.\n",
    "# 1st Test .82; 1-n_neighbors\n",
    "# 2nd Test .79; 2-n_neighbors"
   ]
  },
  {
   "cell_type": "markdown",
   "metadata": {},
   "source": [
    "### Model 2: Naive-Bayes"
   ]
  },
  {
   "cell_type": "code",
   "execution_count": null,
   "metadata": {},
   "outputs": [],
   "source": [
    "# Naive-Bayes Gaussian Model; Named after the Mathematician as we do.\n",
    "nb_model = GaussianNB()\n",
    "nb_model = nb_model.fit(X_train, y_train)"
   ]
  },
  {
   "cell_type": "markdown",
   "metadata": {},
   "source": [
    "### Classification Report (Gaussian Naive-Bayes)"
   ]
  },
  {
   "cell_type": "code",
   "execution_count": null,
   "metadata": {},
   "outputs": [],
   "source": [
    "# PREDICTION - Notice Everything is variating from our previous method.\n",
    "y_pred = nb_model.predict(X_test)\n",
    "print(classification_report(y_test,y_pred))"
   ]
  },
  {
   "cell_type": "markdown",
   "metadata": {},
   "source": [
    "### Model 3: Logistic Regression"
   ]
  },
  {
   "cell_type": "code",
   "execution_count": null,
   "metadata": {},
   "outputs": [],
   "source": [
    "# Logistic Regression Model; Multiple Logistic Regression \n",
    "# After taking a logistic regression and converting to a Sigmoid Function to keep within the realms of probability (0 -> 1).\n",
    "lr_model = LogisticRegression()\n",
    "lr_model = lr_model.fit(X_train, y_train)"
   ]
  },
  {
   "cell_type": "markdown",
   "metadata": {},
   "source": [
    "### Classification Report (Logistic Regression)"
   ]
  },
  {
   "cell_type": "code",
   "execution_count": null,
   "metadata": {},
   "outputs": [],
   "source": [
    "# PREDICTION - Notice Everything is variating from our previous method. little different. Result may vary\n",
    "y_pred = lr_model.predict(X_test)\n",
    "print(classification_report(y_test,y_pred))"
   ]
  },
  {
   "cell_type": "markdown",
   "metadata": {},
   "source": [
    "### Model 3: Support Vector Machine"
   ]
  },
  {
   "cell_type": "code",
   "execution_count": null,
   "metadata": {},
   "outputs": [],
   "source": [
    "svm_model = SVC()\n",
    "svm_model = svm_model.fit(X_train, y_train)"
   ]
  },
  {
   "cell_type": "markdown",
   "metadata": {},
   "source": [
    "### Classification Report (Support Vector Machine)"
   ]
  },
  {
   "cell_type": "code",
   "execution_count": null,
   "metadata": {},
   "outputs": [],
   "source": [
    "y_pred = svm_model.predict(X_test)\n",
    "print(classification_report(y_test, y_pred))"
   ]
  },
  {
   "cell_type": "markdown",
   "metadata": {},
   "source": [
    "### Can we beat a common result, ~80%? Lets try Neural Networks"
   ]
  },
  {
   "cell_type": "markdown",
   "metadata": {},
   "source": [
    "Take all of the features and turn them into inputs by giving them a weight value. <br>\n",
    "Multiply the features and Sum \"Insert Epsilon Here\" and this is the Neuron. <br>\n",
    "Add bias if needed. <br>\n",
    "Then after all this comes together it is processed via ActivationFunction to get out output. <br><br>\n",
    "\n",
    "*Note* without the ActivationFunction. This is a LinearModel.<br>\n",
    "Examples include Sigmoid Functions (val from 0 -> 1), Tanh (val from -1 -> 1), and RELU (any val<0 = 0 -> val=Linear)<br><br>\n",
    "\n",
    "Features x0, x1, x2<br>\n",
    "Weighting w0, w1, w2<br>\n",
    "\n",
    "[x0] *= w0<br>\n",
    "[x1] *= w1<br>\n",
    "[x2] *= w2<br>\n",
    "\n",
    "[xT] = [x0] + [x1] + [x2] <br>\n",
    "\n",
    "[xT] += BIAS -> AF() -> *** OUTPUT *** <br>"
   ]
  },
  {
   "cell_type": "markdown",
   "metadata": {},
   "source": [
    "### Let's Go! Tensor Flow!"
   ]
  },
  {
   "cell_type": "code",
   "execution_count": null,
   "metadata": {},
   "outputs": [],
   "source": [
    "# Nueral net model shouold be layered that I pass in as a model\n",
    "# Using a dense layer of 32 units\n",
    "def train_model(X_train, y_train, numNodes, dropoutProb, lr, batch_size, epochs):\n",
    "    nn_model = tf.keras.Sequential([\n",
    "\n",
    "        tf.keras.layers.Flatten(input_shape=(10, )),\n",
    "\n",
    "        # layer of shape; density is numbe of nodes per layer\n",
    "        tf.keras.layers.Dense(numNodes, activation='relu'),\n",
    "\n",
    "        # Helps prevent overfitting by selectively leaving out certain samples\n",
    "        tf.keras.layers.Dropout(dropoutProb),\n",
    "        \n",
    "        #second layer of no shape\n",
    "        tf.keras.layers.Dense(numNodes, activation='relu'),\n",
    "\n",
    "        # Helps prevent overfitting by selectively leaving out certain samples\n",
    "        tf.keras.layers.Dropout(dropoutProb),\n",
    "\n",
    "        \n",
    "        # third layer of sigmoid (project our predictions to be 0 or 1)\n",
    "        tf.keras.layers.Dense(1, activation='sigmoid'),\n",
    "    ])\n",
    "\n",
    "    nn_model.compile(optimizer=tf.keras.optimizers.Adam(lr), loss='binary_crossentropy',\n",
    "                    metrics=['accuracy'])\n",
    "    \n",
    "    # Each epoch leave x% out and see how the model performs on the % segment taken out of the training\n",
    "    # this is validation split\n",
    "    history = nn_model.fit(X_train, y_train, epochs=epochs, batch_size=batch_size, validation_split=0.2)\n",
    "\n",
    "    return nn_model, history"
   ]
  },
  {
   "cell_type": "code",
   "execution_count": null,
   "metadata": {},
   "outputs": [],
   "source": [
    "# Lets plot\n",
    "def plot_history(history):\n",
    "    fig, (ax1, ax2) = plt.subplots(1, 2, figsize=(10, 4))\n",
    "    ax1.plot(history.history['loss'], label='loss')\n",
    "    ax1.plot(history.history['val_loss'], label='val_loss')\n",
    "    ax1.set_xlabel(\"Epoch\")\n",
    "    ax1.set_ylabel('Binary Crossentropy')\n",
    "    ax1.legend()\n",
    "    ax1.grid(True)\n",
    "    \n",
    "    ax2.plot(history.history['accuracy'], label='accuracy')\n",
    "    ax2.plot(history.history['val_accuracy'], label='val_accuracy')\n",
    "    ax2.set_xlabel(\"Epoch\")\n",
    "    ax2.set_ylabel('Accuracy')\n",
    "    ax2.legend()\n",
    "    ax2.grid(True)\n",
    "\n",
    "    plt.show()"
   ]
  },
  {
   "cell_type": "markdown",
   "metadata": {},
   "source": [
    "Display Tensor Flow Through PyPlot"
   ]
  },
  {
   "cell_type": "markdown",
   "metadata": {},
   "source": [
    "### Neural Network Result"
   ]
  },
  {
   "cell_type": "code",
   "execution_count": null,
   "metadata": {},
   "outputs": [],
   "source": [
    "least_val_loss = float('inf')\n",
    "least_loss_model = None\n",
    "epochs=100\n",
    "for num_nodes in [16, 32, 64]:\n",
    "    for dropout_prob in [0, 0.2]:\n",
    "        for lr in [0.1, 0.005, 0.001]:\n",
    "            for batch_size in [32, 64, 128]:\n",
    "                print(f\"nodes {num_nodes}, dropout {dropout_prob}, lr {lr}, batch size {batch_size}\")\n",
    "                model, history = train_model(X_train, y_train, num_nodes, dropout_prob, lr, batch_size, epochs)\n",
    "                plot_history(history)\n",
    "                val_loss = model.evaluate(X_valid, y_valid)[0]\n",
    "                if val_loss < least_val_loss:\n",
    "                    least_val_loss = val_loss\n",
    "                    least_loss_model = model"
   ]
  }
 ],
 "metadata": {
  "kernelspec": {
   "display_name": "Python 3",
   "language": "python",
   "name": "python3"
  },
  "language_info": {
   "codemirror_mode": {
    "name": "ipython",
    "version": 3
   },
   "file_extension": ".py",
   "mimetype": "text/x-python",
   "name": "python",
   "nbconvert_exporter": "python",
   "pygments_lexer": "ipython3",
   "version": "3.12.3"
  }
 },
 "nbformat": 4,
 "nbformat_minor": 2
}

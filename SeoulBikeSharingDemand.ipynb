{
 "cells": [
  {
   "cell_type": "code",
   "execution_count": 1,
   "metadata": {},
   "outputs": [],
   "source": [
    "# Set imports\n",
    "import numpy as np\n",
    "import pandas as pd\n",
    "import tensorflow as tf\n",
    "import matplotlib.pyplot as plt\n",
    "from sklearn.metrics import classification_report\n",
    "from sklearn.svm import SVC\n",
    "from sklearn.linear_model import LogisticRegression\n",
    "from sklearn.preprocessing import StandardScaler\n",
    "from sklearn.neighbors import KNeighborsClassifier\n",
    "from sklearn.naive_bayes import GaussianNB\n",
    "from imblearn.over_sampling import RandomOverSampler"
   ]
  },
  {
   "cell_type": "markdown",
   "metadata": {},
   "source": [
    "### Evaluating A Linear Regression Model"
   ]
  },
  {
   "cell_type": "markdown",
   "metadata": {},
   "source": [
    "1 - Mean Absolute Error <br>\n",
    "&emsp;&emsp;* Lets take all of the errors/residuals, sum the distance, take the average <br>\n",
    "&emsp;&emsp;* This says how far off we are <br>\n",
    "&emsp;&emsp;* $\\displaystyle \\Bigg[\\frac{\\sum \\limits _{i=1} ^{n} |y_{i} - \\hat{y_{i}}|}{n}\\Bigg]$ <br><br>\n",
    "\n",
    "2 - Mean Squared Error <br>\n",
    "&emsp;&emsp;* Same concept but to punish distance from linear model more harshly <br>\n",
    "&emsp;&emsp;* To do this we square the summation <br>\n",
    "&emsp;&emsp;* This is good for removing outliers as they will face a more intense value weighting. <br>\n",
    "&emsp;&emsp;* $\\displaystyle \\Bigg[\\frac{\\sum \\limits _{i=1} ^{n} |y_{i} - \\hat{y_{i}}|^{2}}{n}\\Bigg]$ <br><br>\n",
    "\n",
    "3 - Root Mean Squared Error <br>\n",
    "&emsp;&emsp;* Same concept but to punish distance from linear model more harshly <br>\n",
    "&emsp;&emsp;* To do this we square the summation <br>\n",
    "&emsp;&emsp;* This is good for more direct comparison to Y. The root mean squared provides an easier y comparion <br>\n",
    "&emsp;&emsp;* $\\displaystyle \\sqrt{\\Bigg[\\frac{\\sum \\limits _{i=1} ^{n} |y_{i} - \\hat{y_{i}}|^{2}}{n}\\Bigg]}$<br><br>\n",
    "\n",
    "4 - Coefficient of Determination <br>\n",
    "&emsp;&emsp;* RSS - Sum of Squared Residuals -> The Numerator in the Above Functions<br>\n",
    "&emsp;&emsp;* TSS - Total Sum of Squares<br><br>\n",
    "&emsp;&emsp;* TSS = $\\displaystyle \\sum \\limits _{i=1} ^{n} |y_{i} - \\bar{y_{i}}|^{2}$<br><br>\n",
    "&emsp;&emsp;* Notice Instead of predicted value '^' we use average/mean value '-'<br>\n",
    "&emsp;&emsp;* A value close to 0 with $R^{2}$ is a good indicator usually<br><br>\n",
    "&emsp;&emsp;* $R^{2} = 1 - \\Bigg[\\frac{RSS}{TSS}\\Bigg]$ <br><br>\n"
   ]
  }
 ],
 "metadata": {
  "kernelspec": {
   "display_name": "Python 3",
   "language": "python",
   "name": "python3"
  },
  "language_info": {
   "codemirror_mode": {
    "name": "ipython",
    "version": 3
   },
   "file_extension": ".py",
   "mimetype": "text/x-python",
   "name": "python",
   "nbconvert_exporter": "python",
   "pygments_lexer": "ipython3",
   "version": "3.12.3"
  }
 },
 "nbformat": 4,
 "nbformat_minor": 2
}
